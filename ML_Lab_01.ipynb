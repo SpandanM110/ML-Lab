{
  "nbformat": 4,
  "nbformat_minor": 0,
  "metadata": {
    "colab": {
      "provenance": [],
      "authorship_tag": "ABX9TyPRfZES7GU46dbYVfycPKy4",
      "include_colab_link": true
    },
    "kernelspec": {
      "name": "python3",
      "display_name": "Python 3"
    },
    "language_info": {
      "name": "python"
    }
  },
  "cells": [
    {
      "cell_type": "markdown",
      "metadata": {
        "id": "view-in-github",
        "colab_type": "text"
      },
      "source": [
        "<a href=\"https://colab.research.google.com/github/SpandanM110/ML-Lab/blob/main/ML_Lab_01.ipynb\" target=\"_parent\"><img src=\"https://colab.research.google.com/assets/colab-badge.svg\" alt=\"Open In Colab\"/></a>"
      ]
    },
    {
      "cell_type": "markdown",
      "source": [
        "Create an array X that contain 5 rows and 4 columns of ones"
      ],
      "metadata": {
        "id": "HvIHz-Eurcaw"
      }
    },
    {
      "cell_type": "code",
      "execution_count": null,
      "metadata": {
        "id": "jfsxcQserSSS"
      },
      "outputs": [],
      "source": [
        "import numpy as np\n",
        "\n",
        "X = np.ones((5, 4))\n"
      ]
    },
    {
      "cell_type": "markdown",
      "source": [
        "Create an array Y that contains only even numbers between 10 (inclusive) and 20(exclusive)"
      ],
      "metadata": {
        "id": "Qwn2_-lrsm02"
      }
    },
    {
      "cell_type": "code",
      "source": [
        "Y = np.arange(10, 20, 2)\n"
      ],
      "metadata": {
        "id": "dW7fCSK9v3Ij"
      },
      "execution_count": null,
      "outputs": []
    },
    {
      "cell_type": "markdown",
      "source": [
        "Create an identity matrix, zero matrix ,matrix filled with number 7 of size 4x5."
      ],
      "metadata": {
        "id": "l7liTGsmwAzk"
      }
    },
    {
      "cell_type": "code",
      "source": [
        "# Identity matrix\n",
        "I = np.eye(4, 5)\n",
        "\n",
        "# Zero matrix\n",
        "Z = np.zeros((4, 5))\n",
        "\n",
        "# Matrix filled with number 7\n",
        "M = 7 * np.ones((4, 5))\n"
      ],
      "metadata": {
        "id": "wHDcMARQwBd8"
      },
      "execution_count": null,
      "outputs": []
    },
    {
      "cell_type": "markdown",
      "source": [
        "Create a matrix P from a list"
      ],
      "metadata": {
        "id": "-3tnavynwMM9"
      }
    },
    {
      "cell_type": "code",
      "source": [
        "\n",
        "P = np.array([[1, 2, 3, 4], [5, 6, 7, 8]])\n"
      ],
      "metadata": {
        "id": "OT37RgVxwRAm"
      },
      "execution_count": null,
      "outputs": []
    },
    {
      "cell_type": "markdown",
      "source": [
        "Create an array A with values from 1 to 12 arranged in 3 rows 4 columns"
      ],
      "metadata": {
        "id": "4Ziz8hFbwV4m"
      }
    },
    {
      "cell_type": "code",
      "source": [
        "A = np.arange(1, 13).reshape(3, 4)"
      ],
      "metadata": {
        "id": "PebLaE8iwYbv"
      },
      "execution_count": null,
      "outputs": []
    },
    {
      "cell_type": "markdown",
      "source": [
        "Display the dimension, shape and size of the array A"
      ],
      "metadata": {
        "id": "o0zJR2g_x-g_"
      }
    },
    {
      "cell_type": "code",
      "source": [
        "print(\"The dimension of A is:\", A.ndim)\n",
        "print(\"The shape of A is:\", A.shape)\n",
        "print(\"The size of A is:\", A.size)\n"
      ],
      "metadata": {
        "id": "oo5Zt6mZyDOY"
      },
      "execution_count": null,
      "outputs": []
    },
    {
      "cell_type": "markdown",
      "source": [
        "Create an array B with values from 13 to 24 arranged in 3 rows and 4 columns"
      ],
      "metadata": {
        "id": "Pv75b27eyQ0P"
      }
    },
    {
      "cell_type": "code",
      "source": [
        "B = np.arrange(13,25).reshape(3,4)"
      ],
      "metadata": {
        "id": "sr_gMNmSyTax"
      },
      "execution_count": null,
      "outputs": []
    },
    {
      "cell_type": "markdown",
      "source": [
        "Stack the arrays one below the other."
      ],
      "metadata": {
        "id": "_NgvOn9syjtL"
      }
    },
    {
      "cell_type": "code",
      "source": [
        "C = np.vstack((A, B))"
      ],
      "metadata": {
        "id": "IBrMs_Mzyma0"
      },
      "execution_count": null,
      "outputs": []
    },
    {
      "cell_type": "markdown",
      "source": [
        "Create an array C by multiplying array A and B elementwise"
      ],
      "metadata": {
        "id": "oF_4DIWoy2RV"
      }
    },
    {
      "cell_type": "code",
      "source": [
        "A = np.array((1,2,3))\n",
        "B = np.array((4,5,6))\n",
        "\n",
        "C = A*B\n",
        "print(C)"
      ],
      "metadata": {
        "colab": {
          "base_uri": "https://localhost:8080/"
        },
        "id": "-mT991s4y55t",
        "outputId": "87053c09-f286-4a4c-ae03-020feeafe3e4"
      },
      "execution_count": null,
      "outputs": [
        {
          "output_type": "stream",
          "name": "stdout",
          "text": [
            "[ 4 10 18]\n"
          ]
        }
      ]
    },
    {
      "cell_type": "markdown",
      "source": [
        "Obtain the dot product of array A and B"
      ],
      "metadata": {
        "id": "hGMFS5wLzpGa"
      }
    },
    {
      "cell_type": "code",
      "source": [
        "a = [[1,0],[2,3]]\n",
        "b = [[3,4],[5,6]]\n",
        "\n",
        "print(np.dot(a,b))"
      ],
      "metadata": {
        "colab": {
          "base_uri": "https://localhost:8080/"
        },
        "id": "nmHdCAcJzru5",
        "outputId": "8c971d09-b2eb-4685-865b-ebbb3c25b62b"
      },
      "execution_count": null,
      "outputs": [
        {
          "output_type": "stream",
          "name": "stdout",
          "text": [
            "[[ 3  4]\n",
            " [21 26]]\n"
          ]
        }
      ]
    },
    {
      "cell_type": "markdown",
      "source": [
        "Extract the element in row 2 and column 1"
      ],
      "metadata": {
        "id": "YZkbu0cq0ZcX"
      }
    },
    {
      "cell_type": "code",
      "source": [
        "# 0th indexing array starts with\n",
        "print(C[1, 1])\n"
      ],
      "metadata": {
        "id": "Rlq9GH5c0Z--"
      },
      "execution_count": null,
      "outputs": []
    },
    {
      "cell_type": "markdown",
      "source": [
        "Extract all the elements in row 1"
      ],
      "metadata": {
        "id": "uI0OJTA20ir_"
      }
    },
    {
      "cell_type": "code",
      "source": [
        "print(C[0,:])\n"
      ],
      "metadata": {
        "id": "-ESJFCSH0jZP"
      },
      "execution_count": null,
      "outputs": []
    },
    {
      "cell_type": "markdown",
      "source": [
        "Extract all the elements in column 2"
      ],
      "metadata": {
        "id": "-zc0yQrj05_h"
      }
    },
    {
      "cell_type": "code",
      "source": [
        "print(C[:, 1])\n"
      ],
      "metadata": {
        "id": "v9fff_n21Mry"
      },
      "execution_count": null,
      "outputs": []
    },
    {
      "cell_type": "markdown",
      "source": [
        "Create an array R that contains 4 rows and 3 columns of random values\n"
      ],
      "metadata": {
        "id": "WtuAmjLU1Rq7"
      }
    },
    {
      "cell_type": "code",
      "source": [
        "R = np.random.rand(4, 3)"
      ],
      "metadata": {
        "id": "1xjqlIu41SND"
      },
      "execution_count": null,
      "outputs": []
    },
    {
      "cell_type": "markdown",
      "source": [
        "Print the maximum value in each row in R"
      ],
      "metadata": {
        "id": "zKcBm95v2MT5"
      }
    },
    {
      "cell_type": "code",
      "source": [
        "print(R.max(axis=1))"
      ],
      "metadata": {
        "id": "fDptFXuc2RNx"
      },
      "execution_count": null,
      "outputs": []
    },
    {
      "cell_type": "markdown",
      "source": [
        "Find the mean of each column in R\n"
      ],
      "metadata": {
        "id": "U0gwQXTF2jbq"
      }
    },
    {
      "cell_type": "code",
      "source": [
        "print(R.mean(axis=0))"
      ],
      "metadata": {
        "id": "q0zdLqwx2oZE"
      },
      "execution_count": null,
      "outputs": []
    },
    {
      "cell_type": "markdown",
      "source": [
        " Find the transpose of matrix R\n"
      ],
      "metadata": {
        "id": "6-jCQljr2w8c"
      }
    },
    {
      "cell_type": "code",
      "source": [
        "R.T"
      ],
      "metadata": {
        "id": "EQll-hHx2xfc"
      },
      "execution_count": null,
      "outputs": []
    },
    {
      "cell_type": "markdown",
      "source": [
        "Make the matrix R flattened"
      ],
      "metadata": {
        "id": "4-MMEqBq24gU"
      }
    },
    {
      "cell_type": "code",
      "source": [
        "R.ravel()"
      ],
      "metadata": {
        "id": "PCgCWnun25jV"
      },
      "execution_count": null,
      "outputs": []
    },
    {
      "cell_type": "markdown",
      "source": [
        "Create a 2X2 matrix with values ranging from 1 to 4 and find its determinant, rank and inverse of\n",
        "the matrix"
      ],
      "metadata": {
        "id": "NGXGv9Ez3Aol"
      }
    },
    {
      "cell_type": "code",
      "source": [
        "M = np.arange(1,5).reshape(2,2)\n",
        "print(M)\n",
        "print(np.linalg.det(M))\n",
        "print(np.linalg.matrix_rank(M))\n",
        "print(np.linalg.inv(M))\n"
      ],
      "metadata": {
        "id": "GaU-mNAu3BMV"
      },
      "execution_count": null,
      "outputs": []
    },
    {
      "cell_type": "markdown",
      "source": [
        "Choose an array to show the difference between assigning and copying another array.\n"
      ],
      "metadata": {
        "id": "PyotaxeK3jlJ"
      }
    },
    {
      "cell_type": "code",
      "source": [
        "a = np.array([1,2,3])\n",
        "b = a\n",
        "c = a.copy()\n",
        "\n",
        "# Changing values in a, b, and c\n",
        "a[1] = 5\n",
        "b[2] = 10\n",
        "c[0] = 15\n",
        "\n",
        "# Print the values of a, b, and c\n",
        "print(a)\n",
        "print(b)\n",
        "print(c)\n"
      ],
      "metadata": {
        "id": "_6Jk2WwE3kLZ"
      },
      "execution_count": null,
      "outputs": []
    }
  ]
}